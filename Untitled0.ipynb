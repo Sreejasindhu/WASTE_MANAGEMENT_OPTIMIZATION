{
  "nbformat": 4,
  "nbformat_minor": 0,
  "metadata": {
    "colab": {
      "provenance": [],
      "authorship_tag": "ABX9TyMDOrP/7wp6xK4PUa7/jfGQ",
      "include_colab_link": true
    },
    "kernelspec": {
      "name": "python3",
      "display_name": "Python 3"
    },
    "language_info": {
      "name": "python"
    }
  },
  "cells": [
    {
      "cell_type": "markdown",
      "metadata": {
        "id": "view-in-github",
        "colab_type": "text"
      },
      "source": [
        "<a href=\"https://colab.research.google.com/github/Sreejasindhu/WASTE_MANAGEMENT_OPTIMIZATION/blob/main/Untitled0.ipynb\" target=\"_parent\"><img src=\"https://colab.research.google.com/assets/colab-badge.svg\" alt=\"Open In Colab\"/></a>"
      ]
    },
    {
      "cell_type": "code",
      "execution_count": null,
      "metadata": {
        "id": "GlvivgjFXD-p"
      },
      "outputs": [],
      "source": [
        "# Import required libraries\n",
        "import pandas as pd\n",
        "from sklearn.ensemble import RandomForestClassifier\n",
        "from sklearn.model_selection import train_test_split\n",
        "from sklearn.metrics import classification_report\n",
        "\n",
        "# Sample dataset (bin fill level, temperature, gas level, hours since last collection)\n",
        "data = {\n",
        "    'fill_level': [45, 80, 95, 30, 85, 65],\n",
        "    'temperature': [30, 35, 40, 28, 38, 33],\n",
        "    'gas_level': [0.02, 0.05, 0.08, 0.01, 0.07, 0.03],\n",
        "    'hours_since_last_collection': [10, 20, 25, 6, 18, 12],\n",
        "    'overflow': [0, 1, 1, 0, 1, 0]  # 1 = Overflow predicted\n",
        "}\n",
        "\n",
        "# Convert to DataFrame\n",
        "df = pd.DataFrame(data)\n",
        "\n",
        "# Features and labels\n",
        "X = df[['fill_level', 'temperature', 'gas_level', 'hours_since_last_collection']]\n",
        "y = df['overflow']\n",
        "\n",
        "# Train-test split\n",
        "X_train, X_test, y_train, y_test = train_test_split(X, y, test_size=0.3, random_state=42)\n",
        "\n",
        "# Random Forest Classifier\n",
        "model = RandomForestClassifier(n_estimators=100, random_state=42)\n",
        "model.fit(X_train, y_train)\n",
        "\n",
        "# Evaluate the model\n",
        "y_pred = model.predict(X_test)\n",
        "print(\"Classification Report:\\n\", classification_report(y_test, y_pred))\n",
        "\n",
        "# Predicting for a new bin status\n",
        "new_bin = [[90, 36, 0.06, 22]]  # e.g., 90% full, 36°C, moderate gas, 22 hrs since last collection\n",
        "prediction = model.predict(new_bin)\n",
        "\n",
        "if prediction[0] == 1:\n",
        "    print(\"Prediction: Bin will overflow soon. Schedule immediate collection.\")\n",
        "else:\n",
        "    print(\"Prediction: Bin does not require urgent collection.\")"
      ]
    }
  ]
}